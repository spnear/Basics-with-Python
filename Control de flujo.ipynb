{
 "cells": [
  {
   "cell_type": "markdown",
   "metadata": {},
   "source": [
    "# Instrucción IF\n",
    "\n",
    "    \n",
    "        if          --> Evalua una pregunta vs una posibilidad\n",
    "        if/else     --> Evalua una pregunta vs dos posibilidades\n",
    "        elif        --> Evalua n preguntas vs n posibilidades\n",
    "        \n",
    "if exp log:\n",
    "    Desarrollo de\n",
    "    instrucciones en\n",
    "    caso de ser conficion\n",
    "    verdadera."
   ]
  },
  {
   "cell_type": "code",
   "execution_count": 3,
   "metadata": {},
   "outputs": [],
   "source": [
    "#If Simple:\n",
    "# Evaluar si una persona es mayor o menor de edad:\n",
    "edad = 22\n",
    "if edad >= 18:\n",
    "    print(\"Eres mayor de edad\")"
   ]
  },
  {
   "cell_type": "code",
   "execution_count": 5,
   "metadata": {},
   "outputs": [
    {
     "name": "stdout",
     "output_type": "stream",
     "text": [
      "Eres menor de edad\n"
     ]
    }
   ],
   "source": [
    "# If/else:\n",
    "edad=-10000\n",
    "if edad >= 18:\n",
    "    print(\"Eres mayor de edad\")\n",
    "else:\n",
    "    print(\"Eres menor de edad\")\n",
    "## Con numeros negativos, no seria coherente este caso"
   ]
  },
  {
   "cell_type": "markdown",
   "metadata": {},
   "source": [
    "# Función INPUT\n",
    "\n",
    "FUncion para pedir por teclado, me da una función en caracter variable=(int)(input(\"Texto\"))"
   ]
  },
  {
   "cell_type": "code",
   "execution_count": 10,
   "metadata": {},
   "outputs": [
    {
     "name": "stdout",
     "output_type": "stream",
     "text": [
      "Digitar su edad:50\n",
      "Eres un adulto\n"
     ]
    }
   ],
   "source": [
    "edad = (int)(input(\"Digitar su edad:\"))\n",
    "if edad < 0:\n",
    "    print(\"Es una cantidad negativa, merece un coscorrón de Vargas Lleras\")\n",
    "elif edad >= 0 and edad <=10:\n",
    "    print(\"Eres un niño\")\n",
    "elif edad >= 11 and edad <=18:\n",
    "    print(\"Eres un adolescente\")\n",
    "elif edad >= 19 and edad <=35:\n",
    "    print(\"Eres un joven\")\n",
    "elif edad >= 36 and edad <=50:\n",
    "    print(\"Eres un adulto\")\n",
    "elif edad >= 51 and edad <=65:\n",
    "    print(\"Eres un adulto joven\")\n",
    "elif edad >= 66 and edad <=80:\n",
    "    print(\"Eres un adulto mayor\")\n",
    "else:\n",
    "    print(\"Error!!!!! *Coscorron de Vargas Lleras!*\")"
   ]
  },
  {
   "cell_type": "code",
   "execution_count": null,
   "metadata": {},
   "outputs": [],
   "source": []
  }
 ],
 "metadata": {
  "kernelspec": {
   "display_name": "Python 3",
   "language": "python",
   "name": "python3"
  },
  "language_info": {
   "codemirror_mode": {
    "name": "ipython",
    "version": 3
   },
   "file_extension": ".py",
   "mimetype": "text/x-python",
   "name": "python",
   "nbconvert_exporter": "python",
   "pygments_lexer": "ipython3",
   "version": "3.6.3"
  }
 },
 "nbformat": 4,
 "nbformat_minor": 2
}
