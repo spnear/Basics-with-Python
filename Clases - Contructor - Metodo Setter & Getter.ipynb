{
 "cells": [
  {
   "cell_type": "markdown",
   "metadata": {},
   "source": [
    "# Clases - Constructor - Setter&Getter"
   ]
  },
  {
   "cell_type": "code",
   "execution_count": 9,
   "metadata": {},
   "outputs": [],
   "source": [
    "\"\"\"\n",
    "Clases\n",
    "Método Constructor\n",
    "Método Setter\n",
    "Método Getter\n",
    "\n",
    "Instancias de una clase -->Crear Objeto\n",
    "Uso de Objetos\n",
    "\n",
    "\"\"\"\n",
    "\n",
    "class Carros:#Modelo de las clases\n",
    "    \n",
    "    #Argumentos de la función = Argumentos del objeto\n",
    "    def __init__(self,Motor1,Color1,Marca1,Llantas1,Descuentos1): #Establecer un estado inicial de nuestros atributos\n",
    "        self.Motor = Motor1\n",
    "        self.Color = Color1\n",
    "        self.Marca = Marca1\n",
    "        self.Llantas = Llantas1\n",
    "        self.Descuentos = Descuentos1\n",
    "    # Ya hemos creado el método constructor de la clase carro\n",
    "    \n",
    "    def configColor(self,ConfigColor): #Método Setter\n",
    "        self.Color = ConfigColor\n",
    "        \n",
    "        \n",
    "    def mostrarCarro(self): #Método Getter\n",
    "        return \"Su carro tiene lo siguiente: Un motor de\", self.Motor , \"de color\", self.Color,\"de Marca:\",\\\n",
    "    self.Marca, \"su número de llantas\", self.Llantas, \"y su descuento es de\",self.Descuentos"
   ]
  },
  {
   "cell_type": "markdown",
   "metadata": {},
   "source": [
    "# Instancias de clases - Crear el objeto\n",
    "\n"
   ]
  },
  {
   "cell_type": "code",
   "execution_count": 10,
   "metadata": {},
   "outputs": [
    {
     "name": "stdout",
     "output_type": "stream",
     "text": [
      "('Su carro tiene lo siguiente: Un motor de', 1300, 'de color', 'Negro', 'de Marca:', 'Chevrolet', 'su número de llantas', 4, 'y su descuento es de', '15 %')\n",
      "('Su carro tiene lo siguiente: Un motor de', 3000, 'de color', 'Rojo', 'de Marca:', 'Lamborghini', 'su número de llantas', 9, 'y su descuento es de', '20 %') \n",
      "\n",
      "('Su carro tiene lo siguiente: Un motor de', 1300, 'de color', 'Azul', 'de Marca:', 'Chevrolet', 'su número de llantas', 4, 'y su descuento es de', '15 %')\n",
      "('Su carro tiene lo siguiente: Un motor de', 3000, 'de color', 'Blanco', 'de Marca:', 'Lamborghini', 'su número de llantas', 9, 'y su descuento es de', '20 %') \n",
      "\n"
     ]
    }
   ],
   "source": [
    "Spark = Carros(1300,\"Negro\",\"Chevrolet\",4,\"15 %\") #Instancia de una clase = Crear el objeto\n",
    "LamborghiniCountach = Carros(3000,\"Rojo\",\"Lamborghini\",9,\"20 %\")\n",
    "\n",
    "print(Spark.mostrarCarro())\n",
    "print(LamborghiniCountach.mostrarCarro(),\"\\n\")\n",
    "\n",
    "Spark.configColor(\"Azul\")  #Aplicando Método Setter\n",
    "LamborghiniCountach.configColor(\"Blanco\") #Aplicando Método Setter\n",
    "\n",
    "print(Spark.mostrarCarro())\n",
    "print(LamborghiniCountach.mostrarCarro(),\"\\n\")"
   ]
  },
  {
   "cell_type": "markdown",
   "metadata": {},
   "source": [
    "# Herencias\n",
    "\n",
    "\n",
    "                                            Vehículo\n",
    "                                               |\n",
    "                         -----------------------------------------------\n",
    "                         ↨               ↨             ↨               ↨\n",
    "                       Carro           Avión         Moto            Barco\n",
    "                       \n",
    "    Un Vehículo es un Carro ? Sí\n",
    "    Un Carro es un Carro ? Sí\n",
    "            *Como funciona en ambos sentidos, podemos decir que SI es posible crear la herencia\n",
    "            ** Funciona sí y solo sí\n",
    "            \n",
    "# Una herencia es el principio de reutilización de código.\n",
    "\n",
    "    Cuando se hereda, se hereda todo. (A menos que se diga algo como \"Mi nieta solo hereda una puerta ome...\")\n",
    "    \n",
    "    Abuelo Hereda Casa a Padre , Padre hereda Casa y Carro a Hijo\n",
    "    Los hijos heredan más\n",
    "    \n",
    "    Clases MasEspecializadas\n",
    "        Sub Clases > Hijos\n",
    "        \n",
    "    Clases Menos Especializadas\n",
    "        Super Clases > Padre\n"
   ]
  },
  {
   "cell_type": "code",
   "execution_count": 15,
   "metadata": {},
   "outputs": [],
   "source": [
    "class Vehiculos:#Modelo de las clases\n",
    "    \n",
    "    #Argumentos de la función = Argumentos del objeto\n",
    "    def __init__(self,Motor1,Color1,Llantas1,Puertas1): #Establecer un estado inicial de nuestros atributos\n",
    "        self.Motor = Motor1\n",
    "        self.Color = Color1\n",
    "        self.Llantas = Llantas1\n",
    "        self.Puertas = Puertas1\n",
    "    # Ya hemos creado el método constructor de la clase carro\n",
    "    \n",
    "    def configColor(self,ConfigColor): #Método Setter\n",
    "        self.Color = ConfigColor\n",
    "        \n",
    "        \n",
    "    def mostrarCarro(self): #Método Getter\n",
    "        return \"Su vehículo tiene lo siguiente: Un motor de\", self.Motor , \"de color\", self.Color,\\\n",
    "    \"su número de llantas\", self.Llantas, \"y el número de puertas es\",self.Puertas\n",
    "    \n",
    "\n",
    "class Camiones(Vehiculos): #Sintaxis de Herencia:\n",
    "    \n",
    "    def __init__(self,cargaMaxima1,Motor,Color,Llantas,Puertas): #Constructor de Herencia\n",
    "        super().__init__(Motor,Color,Llantas,Puertas) #Reutilizar codigo\n",
    "        self.cargaMaxima = cargaMaxima1 #Característica Propia de la subclase\n",
    "    \n",
    "    def configuraCarga(self,CargaMaxNueva): #Metodo Setter\n",
    "        self.cargaMaxima = CargaMaxNueva\n",
    "    \n",
    "    def mostrarCamion(self): #Metodo Getter\n",
    "        return \"Su carga máxima es: \",self.cargaMaxima,\"su motor es:\",self.Motor,\"su color es\",self.Color,\\\n",
    "    \"tiene\",self.Llantas,\"llantas\",\"el número de puertas es\",self.Puertas\n",
    "    \n",
    "        \n",
    "    "
   ]
  },
  {
   "cell_type": "code",
   "execution_count": 16,
   "metadata": {},
   "outputs": [
    {
     "name": "stdout",
     "output_type": "stream",
     "text": [
      "('Su carga máxima es: ', '18 Toneladas', 'su motor es:', 15000, 'su color es', 'Negro', 'tiene', 16, 'llantas', 'el número de puertas es', 8) \n",
      "\n",
      "('Su carga máxima es: ', '25 Toneladas', 'su motor es:', 15000, 'su color es', 'Negro', 'tiene', 16, 'llantas', 'el número de puertas es', 8) \n",
      "\n"
     ]
    }
   ],
   "source": [
    "tractomula = Camiones(\"18 Toneladas\",15000,\"Negro\",16,8) #llamado a constructor heredado\n",
    "print(tractomula.mostrarCamion(),\"\\n\")\n",
    "\n",
    "tractomula.configuraCarga(\"25 Toneladas\")#Aplicación del método Setter\n",
    "print(tractomula.mostrarCamion(),\"\\n\")\n"
   ]
  }
 ],
 "metadata": {
  "kernelspec": {
   "display_name": "Python 3",
   "language": "python",
   "name": "python3"
  },
  "language_info": {
   "codemirror_mode": {
    "name": "ipython",
    "version": 3
   },
   "file_extension": ".py",
   "mimetype": "text/x-python",
   "name": "python",
   "nbconvert_exporter": "python",
   "pygments_lexer": "ipython3",
   "version": "3.8.8"
  }
 },
 "nbformat": 4,
 "nbformat_minor": 2
}
