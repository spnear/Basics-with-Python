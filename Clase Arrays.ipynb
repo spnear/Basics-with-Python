{
 "cells": [
  {
   "cell_type": "markdown",
   "metadata": {},
   "source": [
    "# Arrays\n",
    "\n",
    "Es un conjunto de variables ( Conjunto de contenedores ) Cada variable tiene un indice, representa la posición del contenedor\n",
    "    \n",
    "    1)Listas []\n",
    "    2)Tuplas ()\n",
    "    3)Diccionario {}\n"
   ]
  },
  {
   "cell_type": "markdown",
   "metadata": {},
   "source": [
    "# Las Listas\n",
    "Son arreglos el cual permite acceder, modificar y mostrar. Su nomenclatura es: []"
   ]
  },
  {
   "cell_type": "code",
   "execution_count": 4,
   "metadata": {},
   "outputs": [
    {
     "name": "stdout",
     "output_type": "stream",
     "text": [
      "Mi lista actual es:  ['Si buenas', 1986, 2.89, True]\n",
      "\n",
      "El valor en la posición 2 es:  2.89\n",
      "\n",
      "Lista después de ser modificada:  ['Si buenas', 1986, 'Hola', True]\n"
     ]
    }
   ],
   "source": [
    "milista = [\"Si buenas\", 1986, 2.89, True] #En python, una lista admite todo los tipos de valores\n",
    "print(\"Mi lista actual es: \",milista)\n",
    "# Acceder a ella y modificar sus valores\n",
    "#Acceder   / #Modificar\n",
    "print(\"\\nEl valor en la posición 2 es: \",milista[2])\n",
    "milista[2] = \"Hola\"\n",
    "print(\"\\nLista después de ser modificada: \",milista)"
   ]
  },
  {
   "cell_type": "markdown",
   "metadata": {},
   "source": [
    "# Las Tuplas\n",
    "\n",
    "Son arreglos, el cual permite acceder, NO MODIFICAR, si Mostrar, su nomenclatura es ().\n",
    "Las tuplas son inmutables"
   ]
  },
  {
   "cell_type": "code",
   "execution_count": 6,
   "metadata": {},
   "outputs": [
    {
     "name": "stdout",
     "output_type": "stream",
     "text": [
      "Mi Tupla declarada es:  (12, 'Hola', False, 2.88, True)\n"
     ]
    }
   ],
   "source": [
    "miTupla = (12, \"Hola\", False, 2.88, True)\n",
    "#Acceder / #Modificar\n",
    "#miTupla[3] = \"Goku\"      ### ES IMPOSIBLE\n",
    "\n",
    "#Mostrar\n",
    "print(\"Mi Tupla declarada es: \",miTupla)"
   ]
  },
  {
   "cell_type": "markdown",
   "metadata": {},
   "source": [
    "# Los diccionarios\n",
    "Son arreglos el cual permiten acceder, modificar y mostrar, con base a la estructura clave:valor\n",
    "\n",
    "La clave, no se puede modificar - Es inmutable\n",
    "\n",
    "Solo es posible acceder a través de la clave"
   ]
  },
  {
   "cell_type": "code",
   "execution_count": 9,
   "metadata": {},
   "outputs": [
    {
     "name": "stdout",
     "output_type": "stream",
     "text": [
      "Diccionario Original {'Ju4n': True, 1997: 'Jelouuuuu', False: 123456789, 2.89: 'Ohhhh'}\n",
      "Nuevo diccionario: {'Ju4n': 'No estamos solos', 1997: 'Jelouuuuu', False: 'Pikachu', 2.89: True}\n"
     ]
    }
   ],
   "source": [
    "#Es IMPOSIBLE MODIFICAR LA CLAVE\n",
    "miDicc = {\"Ju4n\":True,1997:\"Jelouuuuu\",False:123456789,2.89:\"Ohhhh\"}\n",
    "print(\"Diccionario Original\",miDicc)\n",
    "\n",
    "#Acceder     / #Modificar\n",
    "miDicc[False] = \"Pikachu\"\n",
    "miDicc[2.89] = True\n",
    "miDicc[\"Ju4n\"] = \"No estamos solos\"\n",
    "\n",
    "#Mostrar\n",
    "print(\"Nuevo diccionario:\",miDicc)\n",
    "#El valor modificado es el primero en ser mostrado ( Solo el ultimo en ser modificado)\n",
    "#NO PUEDEN HABER CLAVES IGUALES\n",
    "\n",
    "\n"
   ]
  },
  {
   "cell_type": "markdown",
   "metadata": {},
   "source": [
    "# Ejercicio Arrays"
   ]
  },
  {
   "cell_type": "code",
   "execution_count": 13,
   "metadata": {},
   "outputs": [
    {
     "name": "stdout",
     "output_type": "stream",
     "text": [
      "Tupla Original:  (12, 'Si buenas', [1, 2, 3, 4, (5, 6, {'123': 'Encuentrame'}, 8, 9), 6, 7, 8, 9], False)\n",
      "\n",
      "Mi tupla modificada (12, 'Si buenas', [1, 2, 3, 4, (5, 6, {'123': 'Eureka'}, 8, 9), 6, 7, 8, 9], False)\n"
     ]
    }
   ],
   "source": [
    "# En la tupla, acceder al valor encuéntrame, modificarlo por un Eureka!\n",
    "\n",
    "miTupla = (12,\"Si buenas\",[1,2,3,4,(5,6,{\"123\":\"Encuentrame\"},8,9),6,7,8,9],False)\n",
    "print(\"Tupla Original: \",miTupla)\n",
    "#Observemos Tupla>Lista>Tupla>Diccionario\n",
    "miTupla[2][4][2][\"123\"] = \"Eureka\"\n",
    "print(\"\\nMi tupla modificada\",miTupla)"
   ]
  },
  {
   "cell_type": "markdown",
   "metadata": {},
   "source": [
    "# Ciclos For - Ciclos Determinados\n"
   ]
  },
  {
   "cell_type": "code",
   "execution_count": 14,
   "metadata": {},
   "outputs": [
    {
     "name": "stdout",
     "output_type": "stream",
     "text": [
      "Encontre a Juan\n"
     ]
    }
   ],
   "source": [
    "# Operador in\n",
    "#Comprueba si algo está contenido en otro elemento\n",
    "\n",
    "if \"Juan\" in \"Juan Sebastián Pastrana\":\n",
    "    print(\"Encontre a Juan\")"
   ]
  },
  {
   "cell_type": "markdown",
   "metadata": {},
   "source": [
    "# Estructuras de Datos Range(x,y,z)\n",
    "\n",
    "    Donde x es el numero de inicio, y es el número limite de iteracciones , y ze es el número de incremento por \n",
    "    unidades"
   ]
  },
  {
   "cell_type": "code",
   "execution_count": 25,
   "metadata": {
    "scrolled": false
   },
   "outputs": [
    {
     "name": "stdout",
     "output_type": "stream",
     "text": [
      "10\n",
      "15\n",
      "20\n",
      "25\n",
      "30\n",
      "35\n",
      "40\n",
      "45\n",
      "50\n",
      "55\n",
      "60\n",
      "65\n",
      "70\n",
      "75\n",
      "80\n",
      "85\n",
      "90\n",
      "95\n",
      "100\n",
      "105\n",
      "110\n",
      "115\n",
      "120\n",
      "125\n",
      "130\n",
      "135\n",
      "140\n",
      "145\n",
      "150\n",
      "155\n",
      "160\n",
      "165\n",
      "170\n",
      "175\n",
      "180\n",
      "185\n",
      "190\n",
      "195\n",
      "200\n"
     ]
    }
   ],
   "source": [
    "for i in range(10,200,5): #El numero y no se cuenta\n",
    "    print(i)\n",
    "    "
   ]
  },
  {
   "cell_type": "code",
   "execution_count": 21,
   "metadata": {
    "scrolled": true
   },
   "outputs": [
    {
     "name": "stdout",
     "output_type": "stream",
     "text": [
      "El tamaño de la lista es:  100\n",
      "Juan 1\n",
      "Juan 2\n",
      "Juan 3\n",
      "Juan 4\n",
      "Juan 5\n",
      "Juan 6\n",
      "Juan 7\n",
      "Juan 8\n",
      "Juan 9\n",
      "Juan 10\n",
      "Juan 11\n",
      "Juan 12\n",
      "Juan 13\n",
      "Juan 14\n",
      "Juan 15\n",
      "Juan 16\n",
      "Juan 17\n",
      "Juan 18\n",
      "Juan 19\n",
      "Juan 20\n",
      "Juan 21\n",
      "Juan 22\n",
      "Juan 23\n",
      "Juan 24\n",
      "Juan 25\n",
      "Juan 26\n",
      "Juan 27\n",
      "Juan 28\n",
      "Juan 29\n",
      "Juan 30\n",
      "Juan 31\n",
      "Juan 32\n",
      "Juan 33\n",
      "Juan 34\n",
      "Juan 35\n",
      "Juan 36\n",
      "Juan 37\n",
      "Juan 38\n",
      "Juan 39\n",
      "Juan 40\n",
      "Juan 41\n",
      "Juan 42\n",
      "Juan 43\n",
      "Juan 44\n",
      "Juan 45\n",
      "Juan 46\n",
      "Juan 47\n",
      "Juan 48\n",
      "Juan 49\n",
      "Juan 50\n",
      "Juan 51\n",
      "Juan 52\n",
      "Juan 53\n",
      "Juan 54\n",
      "Juan 55\n",
      "Juan 56\n",
      "Juan 57\n",
      "Juan 58\n",
      "Juan 59\n",
      "Juan 60\n",
      "Juan 61\n",
      "Juan 62\n",
      "Juan 63\n",
      "Juan 64\n",
      "Juan 65\n",
      "Juan 66\n",
      "Juan 67\n",
      "Juan 68\n",
      "Juan 69\n",
      "Juan 70\n",
      "Juan 71\n",
      "Juan 72\n",
      "Juan 73\n",
      "Juan 74\n",
      "Juan 75\n",
      "Juan 76\n",
      "Juan 77\n",
      "Juan 78\n",
      "Juan 79\n",
      "Juan 80\n",
      "Juan 81\n",
      "Juan 82\n",
      "Juan 83\n",
      "Juan 84\n",
      "Juan 85\n",
      "Juan 86\n",
      "Juan 87\n",
      "Juan 88\n",
      "Juan 89\n",
      "Juan 90\n",
      "Juan 91\n",
      "Juan 92\n",
      "Juan 93\n",
      "Juan 94\n",
      "Juan 95\n",
      "Juan 96\n",
      "Juan 97\n",
      "Juan 98\n",
      "Juan 99\n",
      "Juan 100\n"
     ]
    }
   ],
   "source": [
    "lista = [0,0,0,0,0,0,0,0,0,0,0,0,0,0,0,0,0,0,0,0,0,0,0,0,0,0]\n",
    "#Es muy tedioso...\n",
    "\n",
    "Lista1 = range(100) #Llenar de n zeros\n",
    "TamañoLista=len(Lista1)\n",
    "print(\"El tamaño de la lista es: \",TamañoLista)\n",
    "Contador = 1\n",
    "\n",
    "for i in range(len(Lista1)):\n",
    "    i = \"Juan\"\n",
    "    print(i,Contador)\n",
    "    Contador+=1"
   ]
  },
  {
   "cell_type": "code",
   "execution_count": 30,
   "metadata": {},
   "outputs": [
    {
     "name": "stdout",
     "output_type": "stream",
     "text": [
      "[':v', ':v', ':v', ':v', ':v', ':v', ':v', ':v', ':v', ':v', ':v', ':v', ':v', ':v', ':v', ':v', ':v', ':v', ':v', ':v', ':v', ':v', ':v', ':v', ':v', ':v', ':v', ':v', ':v', ':v', ':v', ':v', ':v', ':v', ':v', ':v', ':v', ':v', ':v', ':v', ':v', ':v', ':v', ':v', ':v', ':v', ':v', ':v', ':v', ':v', ':v', ':v', ':v', ':v', ':v', ':v', ':v', ':v', ':v', ':v', ':v', ':v', ':v', ':v', ':v', ':v', ':v', ':v', ':v', ':v', ':v', ':v', ':v', ':v', ':v', ':v', ':v', ':v', ':v', ':v', ':v', ':v', ':v', ':v', ':v', ':v', ':v', ':v', ':v', ':v', ':v', ':v', ':v', ':v', ':v', ':v', ':v', ':v', ':v', ':v']\n"
     ]
    }
   ],
   "source": [
    "l = []\n",
    "for i in range(100):\n",
    "    l.append(\":v\") #Se añade el elemento que usted le suministra al final de una lista (append)\n",
    "print(l)"
   ]
  },
  {
   "cell_type": "markdown",
   "metadata": {},
   "source": [
    "# Crear lista mediante String con Split"
   ]
  },
  {
   "cell_type": "code",
   "execution_count": 32,
   "metadata": {},
   "outputs": [
    {
     "name": "stdout",
     "output_type": "stream",
     "text": [
      "Me\n",
      "llamo\n",
      "Juan\n",
      "Sebastián\n",
      "Pastrana\n",
      "y\n",
      "soy\n",
      "el\n",
      "estudiante\n"
     ]
    }
   ],
   "source": [
    "#Dividiendo una cadena de caracteres\n",
    "listaNueva = \"Me llamo Juan Sebastián Pastrana y soy el estudiante\".split()  # .algo el punto representa un METODO\n",
    "\n",
    "for palabra in listaNueva:\n",
    "    print(palabra)"
   ]
  },
  {
   "cell_type": "markdown",
   "metadata": {},
   "source": [
    "# Método Extend"
   ]
  },
  {
   "cell_type": "code",
   "execution_count": 34,
   "metadata": {},
   "outputs": [
    {
     "name": "stdout",
     "output_type": "stream",
     "text": [
      "Lista Original ['Goku', 'Diomedes', 'Dionisio', 'Uribe', 'Nepomuseno']\n",
      "Lista modificada ['Goku', 'Diomedes', 'Dionisio', 'Uribe', 'Nepomuseno', 'Lina', 'Naciaseno']\n"
     ]
    }
   ],
   "source": [
    "#Lista\n",
    "nombres = [\"Goku\",\"Diomedes\",\"Dionisio\",\"Uribe\",\"Nepomuseno\"]\n",
    "print(\"Lista Original\",nombres)\n",
    "nombres.extend([\"Lina\",\"Naciaseno\"])\n",
    "print(\"Lista modificada\",nombres)"
   ]
  },
  {
   "cell_type": "markdown",
   "metadata": {},
   "source": [
    "# Medodo Insert"
   ]
  },
  {
   "cell_type": "code",
   "execution_count": 35,
   "metadata": {},
   "outputs": [
    {
     "name": "stdout",
     "output_type": "stream",
     "text": [
      "Lista insertando un nombre ['Goku', 'Diomedes', 'Dionisio', 'Uribe', 'Pepito', 'Nepomuseno', 'Lina', 'Naciaseno']\n"
     ]
    }
   ],
   "source": [
    "#Inserta o agrega un elemento a una posición determinada\n",
    "#insert(posición,\"NuevoElemento\")\n",
    "nombres.insert(4,\"Pepito\")\n",
    "print(\"Lista insertando un nombre\",nombres)"
   ]
  },
  {
   "cell_type": "code",
   "execution_count": 36,
   "metadata": {},
   "outputs": [
    {
     "name": "stdout",
     "output_type": "stream",
     "text": [
      "['Goku', 'Diomedes', 'Dionisio', 'Uribe', 'Pepito', 'Nepomuseno', 'Lina']\n"
     ]
    }
   ],
   "source": [
    "# Eliminar ultimo elemento de la lista método .pop\n",
    "nombres.pop()\n",
    "print(nombres) #Chao Naciaseno"
   ]
  },
  {
   "cell_type": "code",
   "execution_count": 37,
   "metadata": {},
   "outputs": [
    {
     "name": "stdout",
     "output_type": "stream",
     "text": [
      "['Goku', 'Diomedes', 'Dionisio', 'Pepito', 'Nepomuseno', 'Lina']\n"
     ]
    }
   ],
   "source": [
    "# Eliminar elemento por su indice\n",
    "# .pop(NumeroElemento)\n",
    "nombres.pop(3) #Chao mi dotor de la lista!\n",
    "print(nombres)"
   ]
  },
  {
   "cell_type": "code",
   "execution_count": 38,
   "metadata": {},
   "outputs": [
    {
     "name": "stdout",
     "output_type": "stream",
     "text": [
      "['Goku', 'Diomedes', 'Dionisio', 'Nepomuseno', 'Lina']\n"
     ]
    }
   ],
   "source": [
    "#Eliminar un elemento por su valor\n",
    "# .remove(\"valor\")\n",
    "nombres.remove(\"Pepito\")\n",
    "print(nombres)"
   ]
  },
  {
   "cell_type": "markdown",
   "metadata": {},
   "source": [
    "# Metodos de Orden"
   ]
  },
  {
   "cell_type": "code",
   "execution_count": 39,
   "metadata": {},
   "outputs": [
    {
     "name": "stdout",
     "output_type": "stream",
     "text": [
      "['Lina', 'Nepomuseno', 'Dionisio', 'Diomedes', 'Goku']\n"
     ]
    }
   ],
   "source": [
    "# Ordenar una lista en reversa ( Invertir Orden)\n",
    "# .reverse()\n",
    "nombres.reverse()\n",
    "print(nombres)"
   ]
  },
  {
   "cell_type": "code",
   "execution_count": 40,
   "metadata": {},
   "outputs": [
    {
     "name": "stdout",
     "output_type": "stream",
     "text": [
      "['Diomedes', 'Dionisio', 'Goku', 'Lina', 'Nepomuseno']\n"
     ]
    }
   ],
   "source": [
    "#Ordenar una lista de forma ascendente \n",
    "# .sort()\n",
    "nombres.sort()\n",
    "print(nombres)"
   ]
  },
  {
   "cell_type": "code",
   "execution_count": 41,
   "metadata": {},
   "outputs": [
    {
     "name": "stdout",
     "output_type": "stream",
     "text": [
      "['Nepomuseno', 'Lina', 'Goku', 'Dionisio', 'Diomedes']\n"
     ]
    }
   ],
   "source": [
    "#Ordenar lista de forma descendente\n",
    "# .sort(reverse=True)\n",
    "nombres.sort(reverse=True)\n",
    "print(nombres)"
   ]
  },
  {
   "cell_type": "markdown",
   "metadata": {},
   "source": [
    "# Contar elementos - Método indice"
   ]
  },
  {
   "cell_type": "code",
   "execution_count": 43,
   "metadata": {},
   "outputs": [
    {
     "name": "stdout",
     "output_type": "stream",
     "text": [
      "['Nepomuseno', 'Lina', 'Goku', 'Dionisio', 'Diomedes']\n",
      "['Nepomuseno', 'Lina', 'Goku', 'Dionisio', 'Diomedes']\n"
     ]
    }
   ],
   "source": [
    "#index(elemento[inicioIndice,finIndice])\n",
    "nombres.index(\"Lina\")\n",
    "print(nombres)\n",
    "nombres.index(\"Diomedes\", 0, 5)\n",
    "print(nombres)"
   ]
  },
  {
   "cell_type": "code",
   "execution_count": null,
   "metadata": {},
   "outputs": [],
   "source": []
  }
 ],
 "metadata": {
  "kernelspec": {
   "display_name": "Python 3",
   "language": "python",
   "name": "python3"
  },
  "language_info": {
   "codemirror_mode": {
    "name": "ipython",
    "version": 3
   },
   "file_extension": ".py",
   "mimetype": "text/x-python",
   "name": "python",
   "nbconvert_exporter": "python",
   "pygments_lexer": "ipython3",
   "version": "3.6.4"
  }
 },
 "nbformat": 4,
 "nbformat_minor": 2
}
