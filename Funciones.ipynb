{
 "cells": [
  {
   "cell_type": "markdown",
   "metadata": {},
   "source": [
    "# Funciones en Python -def"
   ]
  },
  {
   "cell_type": "code",
   "execution_count": 1,
   "metadata": {},
   "outputs": [
    {
     "name": "stdout",
     "output_type": "stream",
     "text": [
      "Hola mundo\n"
     ]
    }
   ],
   "source": [
    "#Funciones simples:\n",
    "\n",
    "def saludo():\n",
    "    print(\"Hola mundo\")\n",
    "saludo() #Llamado a la función"
   ]
  },
  {
   "cell_type": "markdown",
   "metadata": {},
   "source": [
    "# Funcion en Python - Ejemplo 1 (Suma)"
   ]
  },
  {
   "cell_type": "code",
   "execution_count": 6,
   "metadata": {},
   "outputs": [
    {
     "name": "stdout",
     "output_type": "stream",
     "text": [
      "300\n"
     ]
    }
   ],
   "source": [
    "def suma(num1,num2):\n",
    "    c = num1+num2\n",
    "    print(c)\n",
    "suma(100,200)"
   ]
  },
  {
   "cell_type": "code",
   "execution_count": 7,
   "metadata": {},
   "outputs": [
    {
     "name": "stdout",
     "output_type": "stream",
     "text": [
      "Si buenas\n",
      "Si buenas\n",
      "Si buenas\n",
      "Si buenas\n",
      "Si buenas\n",
      "Si buenas\n",
      "Si buenas\n",
      "Si buenas\n",
      "Si buenas\n",
      "Si buenas\n",
      "\n"
     ]
    }
   ],
   "source": [
    "def imprimaCadena(texto, num):\n",
    "    print(texto*num)\n",
    "imprimaCadena(\"Si buenas\\n\",10)"
   ]
  },
  {
   "cell_type": "code",
   "execution_count": 8,
   "metadata": {},
   "outputs": [
    {
     "name": "stdout",
     "output_type": "stream",
     "text": [
      "Si buenas\n",
      "Si buenas\n",
      "Si buenas\n",
      "Si buenas\n",
      "Si buenas\n",
      "Si buenas\n",
      "Si buenas\n",
      "\n"
     ]
    }
   ],
   "source": [
    "def imprimaCadena(texto, num = 7):\n",
    "    print(texto*num)\n",
    "imprimaCadena(\"Si buenas\\n\")"
   ]
  },
  {
   "cell_type": "markdown",
   "metadata": {},
   "source": [
    "# Funcion de tipo return()"
   ]
  },
  {
   "cell_type": "code",
   "execution_count": 9,
   "metadata": {},
   "outputs": [
    {
     "name": "stdout",
     "output_type": "stream",
     "text": [
      "25\n"
     ]
    }
   ],
   "source": [
    "def cuadrado(numC):\n",
    "    return (numC*numC)\n",
    "print(cuadrado(5))"
   ]
  },
  {
   "cell_type": "markdown",
   "metadata": {},
   "source": [
    "# Reto Número 1\n",
    "\n",
    "Realizar el siguiente gráfico con la función in range\n",
    "\n",
    "\n",
    "\n",
    "              (*)\n",
    "           (*)(*)(*)\n",
    "        (*)(*)(*)(*)(*)\n",
    "     (*)(*)(*)(*)(*)(*)(*)\n",
    "           (*)(*)(*)\n",
    "           (*)(*)(*)\n",
    "           (*)(*)(*)\n",
    "     (*)(*)(*)(*)(*)(*)(*)\n",
    "        (*)(*)(*)(*)(*)\n",
    "           (*)(*)(*)\n",
    "              (*)"
   ]
  },
  {
   "cell_type": "code",
   "execution_count": 1,
   "metadata": {
    "scrolled": true
   },
   "outputs": [
    {
     "name": "stdout",
     "output_type": "stream",
     "text": [
      "         (*)\n",
      "      (*)(*)(*)\n",
      "   (*)(*)(*)(*)(*)\n",
      "(*)(*)(*)(*)(*)(*)(*)\n",
      "      (*)(*)(*)\n",
      "      (*)(*)(*)\n",
      "      (*)(*)(*)\n",
      "(*)(*)(*)(*)(*)(*)(*)\n",
      "   (*)(*)(*)(*)(*)\n",
      "      (*)(*)(*)\n",
      "         (*)\n"
     ]
    }
   ],
   "source": [
    "asterisco = \"(*)\"\n",
    "espacio = \" \"\n",
    "cantidad = 9\n",
    "for i in range(1,8,2):\n",
    "    print((espacio*cantidad)+(asterisco*i))\n",
    "    cantidad=cantidad-3\n",
    "cantidad+=9\n",
    "for i in range(1,4,1):\n",
    "    print((espacio*cantidad)+(asterisco*3))\n",
    "cantidad=cantidad-cantidad\n",
    "for i in range(7,0,-2):\n",
    "    print((espacio*cantidad)+(asterisco*i))\n",
    "    cantidad+=3\n",
    "\n"
   ]
  },
  {
   "cell_type": "code",
   "execution_count": null,
   "metadata": {},
   "outputs": [],
   "source": []
  }
 ],
 "metadata": {
  "kernelspec": {
   "display_name": "Python 3",
   "language": "python",
   "name": "python3"
  },
  "language_info": {
   "codemirror_mode": {
    "name": "ipython",
    "version": 3
   },
   "file_extension": ".py",
   "mimetype": "text/x-python",
   "name": "python",
   "nbconvert_exporter": "python",
   "pygments_lexer": "ipython3",
   "version": "3.6.4"
  }
 },
 "nbformat": 4,
 "nbformat_minor": 2
}
