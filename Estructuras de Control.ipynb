{
 "cells": [
  {
   "cell_type": "markdown",
   "metadata": {},
   "source": [
    "# Comentario en Python"
   ]
  },
  {
   "cell_type": "markdown",
   "metadata": {},
   "source": [
    "Mis primeras instrucciones comando shift+enter"
   ]
  },
  {
   "cell_type": "markdown",
   "metadata": {},
   "source": [
    "Esc+m = Cambiar a markdown // esc+y = cambiar a code"
   ]
  },
  {
   "cell_type": "code",
   "execution_count": 3,
   "metadata": {},
   "outputs": [
    {
     "data": {
      "text/plain": [
       "'\\nEsto es un comentario multi-lineal\\n'"
      ]
     },
     "execution_count": 3,
     "metadata": {},
     "output_type": "execute_result"
    }
   ],
   "source": [
    "#Comentarios Lineales\n",
    "\"\"\"\n",
    "Esto es un comentario multi-lineal\n",
    "\"\"\""
   ]
  },
  {
   "cell_type": "markdown",
   "metadata": {},
   "source": [
    "# Concepto de Variable"
   ]
  },
  {
   "cell_type": "code",
   "execution_count": 6,
   "metadata": {},
   "outputs": [
    {
     "name": "stdout",
     "output_type": "stream",
     "text": [
      "Hola Mundo\n"
     ]
    }
   ],
   "source": [
    "print(\"Hola Mundo\")"
   ]
  },
  {
   "cell_type": "code",
   "execution_count": 7,
   "metadata": {},
   "outputs": [],
   "source": [
    "# Definir nombres\n",
    "\"\"\"\n",
    "Para nombre Simples = Sebastian--> Cammel Case\n",
    "Nombres Compuestos = sebastianPastrana--> Lower Cammel Case\n",
    "Nombre Compuesto Indeterminado --> sebastianPastranaArdila \n",
    "No caracteres raros en las variables\n",
    "No nombres extraños\n",
    "\"\"\"\n",
    "#Declaración de variables: Sintaxis\n",
    "#NombreVariables = Valor --> Declarar una variable.\n",
    "\n",
    "Nombre = \"Sebastian\"\n",
    "Apellido = \"Pastrana\"\n",
    "Anios = 32\n",
    "Estatura = 1.75\n",
    "sexoMasculino = True #Se evaluan como True & False"
   ]
  },
  {
   "cell_type": "code",
   "execution_count": 15,
   "metadata": {},
   "outputs": [
    {
     "name": "stdout",
     "output_type": "stream",
     "text": [
      "Estas son mis variables: \n",
      "Nombre: Sebastian\n",
      "Apellido: Pastrana\n",
      "Edad: 32  Años\n",
      "Estatura: 1.75  metros\n",
      "Sexo Masculino: True\n"
     ]
    }
   ],
   "source": [
    "print(\"Estas son mis variables: \")\n",
    "print(\"Nombre:\",Nombre)\n",
    "print(\"Apellido:\",Apellido)\n",
    "print(\"Edad:\",Anios,\" Años\")\n",
    "print(\"Estatura:\",Estatura,\" metros\")\n",
    "print(\"Sexo Masculino:\",sexoMasculino)"
   ]
  },
  {
   "cell_type": "markdown",
   "metadata": {},
   "source": [
    "# Operadores Aritméticos"
   ]
  },
  {
   "cell_type": "code",
   "execution_count": 16,
   "metadata": {},
   "outputs": [
    {
     "name": "stdout",
     "output_type": "stream",
     "text": [
      "SebastianPastrana\n",
      "Sebastian Pastrana\n",
      "Sebastian Pastrana\n"
     ]
    }
   ],
   "source": [
    "\"\"\"\n",
    "Suma             -->+ Caracter Especial: Permite tambien concatenación\n",
    "Resta            -->-\n",
    "Multiplicación   -->*\n",
    "División         -->/\n",
    "Módulo           -->%\n",
    "Exponente        -->**\n",
    "\"\"\"\n",
    "#¿Que es Concatenar?\n",
    "#Es el equivalente a unir\n",
    "print(Nombre + Apellido)\n",
    "#Concatenar con espacio:\n",
    "print(Nombre + \" \" + Apellido)\n",
    "#uso de comas en el print para juntar partes\n",
    "print(Nombre,Apellido)"
   ]
  },
  {
   "cell_type": "code",
   "execution_count": 17,
   "metadata": {},
   "outputs": [
    {
     "name": "stdout",
     "output_type": "stream",
     "text": [
      "Declaración lineal 10 20 30\n",
      "Declaración en cadena 40 80 100\n",
      "Declaración lineal en cadena Hola 500 True\n"
     ]
    }
   ],
   "source": [
    "#Declaración de Asignación Lineal\n",
    "a = 10\n",
    "b = 20\n",
    "c = 30\n",
    "#Asignación en cadena:\n",
    "d = 40; e = 80; f=100\n",
    "#Asignación lineal en cadena\n",
    "x,y,z = \"Hola\",500,True\n",
    "print(\"Declaración lineal\",a,b,c)\n",
    "print(\"Declaración en cadena\",d,e,f)\n",
    "print(\"Declaración lineal en cadena\",x,y,z)"
   ]
  },
  {
   "cell_type": "code",
   "execution_count": 21,
   "metadata": {},
   "outputs": [
    {
     "name": "stdout",
     "output_type": "stream",
     "text": [
      "Suma: 30\n",
      "Resta: -10\n",
      "Multiplicación: 200\n",
      "División: 0.5\n",
      "Modulo: 10\n",
      "Exponente: 100000000000000000000\n"
     ]
    }
   ],
   "source": [
    "g = a + b\n",
    "print(\"Suma:\",g)\n",
    "g = a - b\n",
    "print(\"Resta:\",g)\n",
    "g = a * b\n",
    "print(\"Multiplicación:\",g)\n",
    "g = a / b\n",
    "print(\"División:\",g)\n",
    "g = a % b\n",
    "print(\"Modulo:\",g)\n",
    "g = a ** b\n",
    "print(\"Exponente:\",g)"
   ]
  },
  {
   "cell_type": "markdown",
   "metadata": {},
   "source": [
    "# Operadores Relacionales"
   ]
  },
  {
   "cell_type": "markdown",
   "metadata": {},
   "source": [
    "> Mayor que\n",
    "< Menor que\n",
    ">= Mayor o Igual\n",
    "<= Menor o Igual\n",
    "! Distinto de\n",
    "== Igual a"
   ]
  },
  {
   "cell_type": "markdown",
   "metadata": {},
   "source": [
    "Sirven para comparar cantidades:\n",
    "        > mayor que\n",
    "        < menor que\n",
    "        >= mayor o igual que\n",
    "        <= menor o igual que\n",
    "        != distinto de\n",
    "        == igual a"
   ]
  },
  {
   "cell_type": "code",
   "execution_count": 29,
   "metadata": {},
   "outputs": [
    {
     "name": "stdout",
     "output_type": "stream",
     "text": [
      "Caso Mayor: True\n",
      "Caso Menor: False\n",
      "Caso Mayor o igual: True\n",
      "Caso Menor o igual: False\n",
      "Caso Distinto: True\n",
      "Caso Igual: False\n"
     ]
    }
   ],
   "source": [
    "#Cuando comparamos cantidades siempre se retorna un valor lógico\n",
    "a = 10; b = 20; c = 30;\n",
    "print(\"Caso Mayor:\",(c>b))\n",
    "print(\"Caso Menor:\",(c<b))\n",
    "print(\"Caso Mayor o igual:\",(c>=b))\n",
    "print(\"Caso Menor o igual:\",(c<=b))\n",
    "print(\"Caso Distinto:\",(c!=b))\n",
    "print(\"Caso Igual:\",(c==b))"
   ]
  },
  {
   "cell_type": "markdown",
   "metadata": {},
   "source": [
    "# Operadores Lógicos\n",
    "\n",
    "    and\n",
    "    or\n",
    "    not"
   ]
  },
  {
   "cell_type": "code",
   "execution_count": 30,
   "metadata": {},
   "outputs": [
    {
     "name": "stdout",
     "output_type": "stream",
     "text": [
      "<class 'bool'>\n",
      "False\n"
     ]
    }
   ],
   "source": [
    "#Función type() = retorna el tipo de la variables\n",
    "\"\"\"\n",
    "Siempre que evaluemos operadores lógicos\n",
    "tenemos que validar expresiones lógicas\n",
    "\"\"\"\n",
    "valor = ((c < d) and (a > d))\n",
    "print(type(valor))\n",
    "print(valor)"
   ]
  },
  {
   "cell_type": "markdown",
   "metadata": {},
   "source": [
    "# Operador Unarios"
   ]
  },
  {
   "cell_type": "markdown",
   "metadata": {},
   "source": [
    "        Modelo primitivo = i = i+1   -->Acumulación\n",
    "        Modelo primitivo = i++       -->NO ES POSIBLE EN PYTHON\n",
    "        \n",
    "        Incremento en Unidades\n",
    "        \n",
    "        i = i + 1                          -->Incremento en una unidad\n",
    "        i+=1                               --> Es igual a i=i+1=i++\n",
    "        \n",
    "        Incremento en Grandes Cantidades\n",
    "        \n",
    "        i*=10\n",
    "        i/=20\n",
    "        i%=30\n",
    "        i**=10"
   ]
  },
  {
   "cell_type": "code",
   "execution_count": 34,
   "metadata": {},
   "outputs": [
    {
     "name": "stdout",
     "output_type": "stream",
     "text": [
      "Caso += 11\n",
      "Caso -= 9\n",
      "Caso /= 0.6\n",
      "Caso %= 0.6\n",
      "Caso **= 0.36\n"
     ]
    }
   ],
   "source": [
    "i = 10\n",
    "\n",
    "i+=1\n",
    "print(\"Caso +=\",i)\n",
    "\n",
    "i-=2\n",
    "print(\"Caso -=\",i)\n",
    "\n",
    "i/=15\n",
    "print(\"Caso /=\",i)\n",
    "\n",
    "i%=3\n",
    "print(\"Caso %=\",i)\n",
    "\n",
    "i**=2\n",
    "print(\"Caso **=\",i)"
   ]
  },
  {
   "cell_type": "markdown",
   "metadata": {},
   "source": [
    "# VALIDACIONES \n"
   ]
  },
  {
   "cell_type": "code",
   "execution_count": 10,
   "metadata": {},
   "outputs": [
    {
     "name": "stdout",
     "output_type": "stream",
     "text": [
      "Ingrese un número entero: a\n",
      "ATENCIÓN: Debe ingresar un número entero.\n",
      "Ingrese un número entero: 4\n"
     ]
    }
   ],
   "source": [
    "def lee_entero():\n",
    "    \"\"\" Solicita un valor entero y lo devuelve.\n",
    "        Mientras el valor ingresado no sea entero, vuelve a solicitarlo. \"\"\"\n",
    "    while True:\n",
    "        valor = input(\"Ingrese un número entero: \")\n",
    "        try:\n",
    "            valor = int(valor)\n",
    "            return valor\n",
    "        except ValueError:\n",
    "            print (\"ATENCIÓN: Debe ingresar un número entero.\")\n",
    "a=lee_entero()\n"
   ]
  },
  {
   "cell_type": "code",
   "execution_count": null,
   "metadata": {},
   "outputs": [],
   "source": []
  }
 ],
 "metadata": {
  "kernelspec": {
   "display_name": "Python 3",
   "language": "python",
   "name": "python3"
  },
  "language_info": {
   "codemirror_mode": {
    "name": "ipython",
    "version": 3
   },
   "file_extension": ".py",
   "mimetype": "text/x-python",
   "name": "python",
   "nbconvert_exporter": "python",
   "pygments_lexer": "ipython3",
   "version": "3.6.4"
  }
 },
 "nbformat": 4,
 "nbformat_minor": 2
}
